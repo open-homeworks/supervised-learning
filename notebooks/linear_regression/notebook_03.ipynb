{
 "cells": [
  {
   "cell_type": "markdown",
   "metadata": {},
   "source": [
    "# Regularized Linear Regression\n",
    "\n",
    "In this notebook we use a regularized version of the linear regression model on a non-linear representation of our input space. If that sounds a bit confusing, please make sure you have gone through `notebook_01`and `notebook_02`. Here we only share the following key insights:\n",
    "- To make a non-linear regression model we just use a non-linear funtion to transform our input $\\mathbf{x}$ into $\\phi({x})$. In the previous notebook we used a polynomial function.\n",
    "- If you use non-linear models your model has higher capacity and may overfit your training data.\n",
    "- When you are overfitting the weights of your model get bigger.\n",
    "\n",
    "In particular, we will use a Ridge Regression model, here are some things you need to keep in mind so that your implementation works correctly:\n",
    "\n",
    "- Predictions: $\\hat{Y} = X \\mathbf{w}$\n",
    "- Loss function: $\\| Y - X \\mathbf{w} \\| _{2}^{2} + \\lambda \\| w \\|_{2}^{2}$\n",
    "- Solution by normal equations: $ \\mathbf{w} = (X^{T}X  + \\lambda I)^{-1} X^{T}Y$\n",
    "- Gradient of the loss: $\\nabla{L} = -\\mathbb{1}X^{T}(Y - \\hat{Y}) + \\lambda\\mathbf{w}$\n",
    "\n",
    "Here are some references where you can review the Ridge Regression:\n",
    "\n",
    "- [Bias vs Variance lecture on Andrew Ng's Coursera Course](https://www.coursera.org/learn/machine-learning/lecture/4VDlf/regularization-and-bias-variance).\n",
    "- [Lecture 9 from CS229](https://www.youtube.com/watch?v=tojaGtMPo5U&list=PLA89DCFA6ADACE599&index=9).\n",
    "- [Chapter 3 of The Elements of Statistical Learning](https://web.stanford.edu/~hastie/ElemStatLearn/).\n",
    "- [Chapter 3 from Pattern Recognition and Machine Learning](https://www.amazon.com/Pattern-Recognition-Learning-Information-Statistics/dp/0387310738).\n",
    "\n",
    "## Setup"
   ]
  },
  {
   "cell_type": "code",
   "execution_count": 1,
   "metadata": {},
   "outputs": [],
   "source": [
    "import sys\n",
    "import numpy as np\n",
    "from sklearn import preprocessing\n",
    "\n",
    "import matplotlib.pyplot as plt\n",
    "%matplotlib inline"
   ]
  },
  {
   "cell_type": "code",
   "execution_count": 2,
   "metadata": {},
   "outputs": [],
   "source": [
    "sys.path.append('..')\n",
    "import utils"
   ]
  },
  {
   "cell_type": "code",
   "execution_count": 3,
   "metadata": {},
   "outputs": [],
   "source": [
    "import supervised_learning.linear_regression as lib\n",
    "%load_ext autoreload\n",
    "%autoreload 2"
   ]
  },
  {
   "cell_type": "code",
   "execution_count": 4,
   "metadata": {},
   "outputs": [],
   "source": [
    "def polynomial_features(X, degree=2):\n",
    "    X_ = preprocessing.PolynomialFeatures(\n",
    "            degree=degree, include_bias=False).fit_transform(X.copy())\n",
    "    return X_"
   ]
  },
  {
   "cell_type": "code",
   "execution_count": 5,
   "metadata": {},
   "outputs": [],
   "source": [
    "X_train, y_train, X_test, y_test = utils.load_toy_dataset('../../toy_datasets/regression/data.csv', ['X'])"
   ]
  },
  {
   "cell_type": "code",
   "execution_count": 6,
   "metadata": {},
   "outputs": [
    {
     "data": {
      "image/png": "[encoded data removed]",
      "text/plain": [
       "<Figure size 432x288 with 1 Axes>"
      ]
     },
     "metadata": {
      "needs_background": "light"
     },
     "output_type": "display_data"
    }
   ],
   "source": [
    "utils.plot_univariate_regression(X_train, y_train)"
   ]
  },
  {
   "cell_type": "markdown",
   "metadata": {},
   "source": [
    "## Validate implementation\n",
    "\n",
    "**Validate loss**"
   ]
  },
  {
   "cell_type": "code",
   "execution_count": 7,
   "metadata": {},
   "outputs": [],
   "source": [
    "value = lib.l2_regularized_mean_squared_error(np.array([1,2]), np.array([3,5]), np.array([[7], [13]]), 0)\n",
    "assert value == 6.5\n",
    "value = lib.l2_regularized_mean_squared_error(np.array([1,2]), np.array([3,5]), np.array([[0], [0]]), 10)\n",
    "assert value == 6.5\n",
    "value1 = lib.l2_regularized_mean_squared_error(np.array([1,2]), np.array([3,5]), np.array([[7], [13]]), 1.5)\n",
    "value = lib.l2_regularized_mean_squared_error(np.array([1,2]), np.array([3,5]), np.array([[7], [13]]), 0.5)\n",
    "assert value1 > value\n",
    "value = lib.l2_regularized_mean_squared_error(np.array([1,2]), np.array([1,2]), np.array([[7], [13]]), 0.5)\n",
    "assert value > 0.0"
   ]
  },
  {
   "cell_type": "markdown",
   "metadata": {},
   "source": [
    "**Validate gradient**"
   ]
  },
  {
   "cell_type": "code",
   "execution_count": 8,
   "metadata": {},
   "outputs": [],
   "source": [
    "value = lib.mean_squared_error_gradient(np.array([[1,2]]), np.array([[3]]), y_pred=np.array([[3]]))\n",
    "np.testing.assert_array_equal(value, np.zeros((2,1)))\n",
    "value = lib.mean_squared_error_gradient(np.array([[0,0]]), np.array([[1]]), y_pred=np.array([[3]]))\n",
    "np.testing.assert_array_equal(value, np.zeros((2,1)))\n",
    "value = lib.mean_squared_error_gradient(np.array([[2,7]]), np.array([[1]]), y_pred=np.array([[3]]))\n",
    "np.testing.assert_array_equal(value, np.array([[4], [14]]))"
   ]
  },
  {
   "cell_type": "markdown",
   "metadata": {},
   "source": [
    "## Overfitted model\n",
    "\n",
    "Let us start with what finished in the last notebook: a polynomial model that clearly overfitted the training set"
   ]
  },
  {
   "cell_type": "code",
   "execution_count": 9,
   "metadata": {},
   "outputs": [],
   "source": [
    "preprocessing_fn = lambda x: polynomial_features(x.copy(), degree=10)"
   ]
  },
  {
   "cell_type": "code",
   "execution_count": 10,
   "metadata": {},
   "outputs": [],
   "source": [
    "X_train_poly = preprocessing_fn(X_train)\n",
    "X_test_poly = preprocessing_fn(X_test)"
   ]
  },
  {
   "cell_type": "code",
   "execution_count": 11,
   "metadata": {},
   "outputs": [
    {
     "data": {
      "image/png": "[encoded data removed]",
      "text/plain": [
       "<Figure size 432x288 with 1 Axes>"
      ]
     },
     "metadata": {
      "needs_background": "light"
     },
     "output_type": "display_data"
    },
    {
     "name": "stdout",
     "output_type": "stream",
     "text": [
      "Mean Squared Error on train set: 0.000751\n",
      "Mean Squared Error on test set: 0.001427\n",
      "Norm of the weights: 71452.186405\n",
      "Variance of the weights: 464128631.089173\n"
     ]
    }
   ],
   "source": [
    "overfitted_model = lib.LinearRegression()\n",
    "overfitted_model.fit(X_train_poly, y_train, method='normal equations')\n",
    "\n",
    "utils.plot_univariate_regression(X_train, y_train, X_test, y_test,\n",
    "    model_fn = overfitted_model.predict, preprocessing_fn=preprocessing_fn\n",
    ")\n",
    "\n",
    "y_pred = overfitted_model.predict(X_train_poly)\n",
    "mse = lib.mean_squared_error(y_train, y_pred)\n",
    "print(\"Mean Squared Error on train set: {:4f}\".format(mse))\n",
    "\n",
    "y_pred = overfitted_model.predict(X_test_poly)\n",
    "mse = lib.mean_squared_error(y_test, y_pred)\n",
    "print(\"Mean Squared Error on test set: {:4f}\".format(mse))\n",
    "\n",
    "print(\"Norm of the weights: {:4f}\".format(np.linalg.norm(overfitted_model.coef)))\n",
    "print(\"Variance of the weights: {:4f}\".format(np.var(overfitted_model.coef)))"
   ]
  },
  {
   "cell_type": "code",
   "execution_count": 12,
   "metadata": {},
   "outputs": [
    {
     "data": {
      "text/plain": [
       "array([[ 5.38484529e-01],\n",
       "       [ 1.21056271e+00],\n",
       "       [-3.18429108e+01],\n",
       "       [ 3.95178955e+02],\n",
       "       [-2.67602686e+03],\n",
       "       [ 1.09007129e+04],\n",
       "       [-2.76784375e+04],\n",
       "       [ 4.38833594e+04],\n",
       "       [-4.20569688e+04],\n",
       "       [ 2.22261562e+04],\n",
       "       [-4.96339844e+03]])"
      ]
     },
     "execution_count": 12,
     "metadata": {},
     "output_type": "execute_result"
    }
   ],
   "source": [
    "overfitted_model.coef"
   ]
  },
  {
   "cell_type": "markdown",
   "metadata": {},
   "source": [
    "## Regularized model\n",
    "\n",
    "Now we make use of our implementation of the regularized linear regression. If we did it correctly we can expect:\n",
    "- Smaller value of the weights' norm.\n",
    "- Less *unnatural* curves in the plot of our model.\n",
    "- Smaller difference between the errors of the train and test set.\n",
    "\n",
    "Let us define what amount of regularization we need."
   ]
  },
  {
   "cell_type": "code",
   "execution_count": 13,
   "metadata": {},
   "outputs": [],
   "source": [
    "reg = 1.0"
   ]
  },
  {
   "cell_type": "code",
   "execution_count": 14,
   "metadata": {},
   "outputs": [
    {
     "data": {
      "image/png": "[encoded data removed]",
      "text/plain": [
       "<Figure size 432x288 with 1 Axes>"
      ]
     },
     "metadata": {
      "needs_background": "light"
     },
     "output_type": "display_data"
    },
    {
     "name": "stdout",
     "output_type": "stream",
     "text": [
      "Mean Squared Error on train set: 0.001147\n",
      "Mean Squared Error on test set: 0.001262\n",
      "Norm of the weights: 0.552468\n",
      "Variance of the weights: 0.020654\n"
     ]
    }
   ],
   "source": [
    "ridge_model = lib.RidgeRegression(reg=reg)\n",
    "ridge_model.fit(X_train_poly, y_train, method='normal equations')\n",
    "\n",
    "utils.plot_univariate_regression(X_train, y_train, X_test, y_test,\n",
    "    model_fn = ridge_model.predict, preprocessing_fn=preprocessing_fn\n",
    ")\n",
    "\n",
    "y_pred = ridge_model.predict(X_train_poly)\n",
    "mse = lib.mean_squared_error(y_train, y_pred)\n",
    "print(\"Mean Squared Error on train set: {:4f}\".format(mse))\n",
    "\n",
    "y_pred = ridge_model.predict(X_test_poly)\n",
    "mse = lib.mean_squared_error(y_test, y_pred)\n",
    "print(\"Mean Squared Error on test set: {:4f}\".format(mse))\n",
    "\n",
    "print(\"Norm of the weights: {:4f}\".format(np.linalg.norm(ridge_model.coef)))\n",
    "print(\"Variance of the weights: {:4f}\".format(np.var(ridge_model.coef)))"
   ]
  },
  {
   "cell_type": "markdown",
   "metadata": {},
   "source": [
    "We did it! Let us test it now with our implementation of the grandient descent method"
   ]
  },
  {
   "cell_type": "code",
   "execution_count": 15,
   "metadata": {},
   "outputs": [
    {
     "data": {
      "image/png": "[encoded data removed]",
      "text/plain": [
       "<Figure size 432x288 with 1 Axes>"
      ]
     },
     "metadata": {
      "needs_background": "light"
     },
     "output_type": "display_data"
    },
    {
     "name": "stdout",
     "output_type": "stream",
     "text": [
      "Mean Squared Error on train set: 0.002013\n",
      "Mean Squared Error on test set: 0.002034\n",
      "Norm of the weights: 1.871671\n",
      "Variance of the weights: 0.310099\n"
     ]
    }
   ],
   "source": [
    "ridge_model = lib.RidgeRegression(reg=reg)\n",
    "ridge_model.fit(X_train_poly, y_train, method='gradient descent', num_iterations=700)\n",
    "\n",
    "utils.plot_univariate_regression(X_train, y_train, X_test, y_test,\n",
    "    model_fn = ridge_model.predict, preprocessing_fn=preprocessing_fn\n",
    ")\n",
    "\n",
    "y_pred = ridge_model.predict(X_train_poly)\n",
    "mse = lib.mean_squared_error(y_train, y_pred)\n",
    "print(\"Mean Squared Error on train set: {:4f}\".format(mse))\n",
    "\n",
    "y_pred = ridge_model.predict(X_test_poly)\n",
    "mse = lib.mean_squared_error(y_test, y_pred)\n",
    "print(\"Mean Squared Error on test set: {:4f}\".format(mse))\n",
    "\n",
    "print(\"Norm of the weights: {:4f}\".format(np.linalg.norm(ridge_model.coef)))\n",
    "print(\"Variance of the weights: {:4f}\".format(np.var(ridge_model.coef)))"
   ]
  },
  {
   "cell_type": "markdown",
   "metadata": {},
   "source": [
    "## Final notes\n",
    "\n",
    "Consider the following:\n",
    "- We did not say you would get better model performance! Consider the ridge regression as a tool that may or may not help you improve performance.\n",
    "- Plot the learning curves to debug your implementation of gradient descent! While developing this notebook and implementation there was a bug that was resolved only until we ploted the learning curves :)"
   ]
  },
  {
   "cell_type": "code",
   "execution_count": null,
   "metadata": {},
   "outputs": [],
   "source": []
  }
 ],
 "metadata": {
  "kernelspec": {
   "display_name": "Python 3",
   "language": "python",
   "name": "python3"
  },
  "language_info": {
   "codemirror_mode": {
    "name": "ipython",
    "version": 3
   },
   "file_extension": ".py",
   "mimetype": "text/x-python",
   "name": "python",
   "nbconvert_exporter": "python",
   "pygments_lexer": "ipython3",
   "version": "3.7.9"
  }
 },
 "nbformat": 4,
 "nbformat_minor": 2
}
