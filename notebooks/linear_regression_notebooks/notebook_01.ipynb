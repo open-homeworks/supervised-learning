{
 "cells": [
  {
   "cell_type": "markdown",
   "metadata": {},
   "source": [
    "# Linear Regression\n",
    "\n",
    "In this notebook we explore the linear regression model, including its implementation by normal equations and by gradient descent.\n",
    "\n",
    "Remember that a linear regression model is one in which you make your predictions based on a linear combination of your input plus some constant term:\n",
    "\n",
    "$\\hat{y} = \\hat{f}(\\mathbf{x}) = x_0 + x_1 \\times w_1 + x_2 \\times w_2 + ... + x_d \\times w_d$\n",
    "\n",
    "or if we let $x_0 = 1$, we can write it as $\\hat{y} = \\mathbf{x}^T \\mathbf{w}$. So....you are suppose to see straight lines in the plots bellow.\n",
    "\n",
    "here are some things you need to keep in mind so that your implementation works correctly:\n",
    "\n",
    "- Predictions: $\\hat{Y} = X \\mathbf{w}$\n",
    "- Loss function: $ L = \\| Y - X \\mathbf{w} \\| _{2}^{2}$\n",
    "- Solution by normal equations: $ \\mathbf{w} = (X^{T}X)^{-1} X^{T}Y$\n",
    "- Gradient of the loss: $\\nabla{L} = -\\mathbb{1}X^{T}(Y - \\hat{Y})$\n",
    "\n",
    "Here are some references where you can review the Linear Regression:\n",
    "\n",
    "- Weeks 1 and 2 from [Andrew Ng's course con Coursera](https://www.coursera.org/learn/machine-learning?). The course is for free and the videos may also be found on YouTube.\n",
    "- [Lecture 2 of Machine Learning Stanford Course](https://www.youtube.com/watch?v=5u4G23_OohI&list=PLA89DCFA6ADACE599&index=2).\n",
    "- [Sections 1 and 2 of CS229 lecture notes](http://cs229.stanford.edu/notes2019fall/cs229-notes1.pdf)\n",
    "- Pages 0 to 12 from [The Elements of Statistical Learning](https://web.stanford.edu/~hastie/ElemStatLearn/)\n",
    "- Pages 9 to 13 and 107 to 112 from [Modern Multivariate Statistical Techniques](https://www.amazon.com/Modern-Multivariate-Statistical-Techniques-Classification/dp/0387781889).\n",
    "- Chapter one from [Machine Learning: A Probabilistic Perspective](https://mitpress.mit.edu/books/machine-learning-1)\n",
    "\n",
    "## Setup\n",
    "\n",
    "Lets start with some imports"
   ]
  },
  {
   "cell_type": "code",
   "execution_count": 1,
   "metadata": {},
   "outputs": [],
   "source": [
    "import sys\n",
    "\n",
    "import numpy as np\n",
    "import matplotlib.pyplot as plt\n",
    "%matplotlib inline"
   ]
  },
  {
   "cell_type": "markdown",
   "metadata": {},
   "source": [
    "we are also going to import the general `utils` module of this series of homeworks, which contains functions for loading data and ploting the toy examples we will be using."
   ]
  },
  {
   "cell_type": "code",
   "execution_count": 2,
   "metadata": {},
   "outputs": [],
   "source": [
    "sys.path.append('..')\n",
    "import utils"
   ]
  },
  {
   "cell_type": "markdown",
   "metadata": {},
   "source": [
    "The following line imports our own library where we should have the implementations ready."
   ]
  },
  {
   "cell_type": "code",
   "execution_count": 3,
   "metadata": {},
   "outputs": [],
   "source": [
    "import supervised_learning.linear_regression as lib\n",
    "%load_ext autoreload\n",
    "%autoreload 2"
   ]
  },
  {
   "cell_type": "markdown",
   "metadata": {},
   "source": [
    "## Validate implementation\n",
    "\n",
    "The following cells run some test cases for your implementation, make sure there are no assertion errors.\n",
    "\n",
    "**Validate predictions**"
   ]
  },
  {
   "cell_type": "code",
   "execution_count": 4,
   "metadata": {},
   "outputs": [],
   "source": [
    "value = lib.linear_prediction([[1,2]], np.array([[3], [4]]))[0,0]\n",
    "assert value == 11"
   ]
  },
  {
   "cell_type": "markdown",
   "metadata": {},
   "source": [
    "**Validate loss function**"
   ]
  },
  {
   "cell_type": "code",
   "execution_count": 5,
   "metadata": {},
   "outputs": [],
   "source": [
    "value = lib.mean_squared_error(np.array([1,2]), np.array([3,5]))\n",
    "assert value == 6.5\n",
    "value = lib.mean_squared_error(np.array([1,2]), np.array([1,2]))\n",
    "assert value == 0.0"
   ]
  },
  {
   "cell_type": "markdown",
   "metadata": {},
   "source": [
    "**Validate gradient**"
   ]
  },
  {
   "cell_type": "code",
   "execution_count": 6,
   "metadata": {},
   "outputs": [],
   "source": [
    "value = lib.mean_squared_error_gradient(np.array([[1,2]]), np.array([[3]]), y_pred=np.array([[3]]))\n",
    "np.testing.assert_array_equal(value, np.zeros((2,1)))\n",
    "value = lib.mean_squared_error_gradient(np.array([[0,0]]), np.array([[1]]), y_pred=np.array([[3]]))\n",
    "np.testing.assert_array_equal(value, np.zeros((2,1)))\n",
    "value = lib.mean_squared_error_gradient(np.array([[2,7]]), np.array([[1]]), y_pred=np.array([[3]]))\n",
    "np.testing.assert_array_equal(value, np.array([[4], [14]]))"
   ]
  },
  {
   "cell_type": "markdown",
   "metadata": {},
   "source": [
    "## Data Exploration\n",
    "\n",
    "Now we must import our toy dataset. It is already splitted in *Train* and *Test* sets, one for training the model and the other to estimate how it will perform when faced on data it has not previously seen.\n",
    "\n",
    "For exploring thde data we are only going to look at our training data, because sometimes we may bias ourselfs and our models if we look into our test data."
   ]
  },
  {
   "cell_type": "code",
   "execution_count": 9,
   "metadata": {},
   "outputs": [],
   "source": [
    "X_train, y_train, X_test, y_test = utils.load_toy_dataset('../../toy_datasets/regression/data.csv', ['X'])"
   ]
  },
  {
   "cell_type": "code",
   "execution_count": 10,
   "metadata": {},
   "outputs": [
    {
     "data": {
      "image/png": "[encoded data removed]",
      "text/plain": [
       "<Figure size 432x288 with 1 Axes>"
      ]
     },
     "metadata": {
      "needs_background": "light"
     },
     "output_type": "display_data"
    }
   ],
   "source": [
    "utils.plot_univariate_regression(X_train, y_train)"
   ]
  },
  {
   "cell_type": "markdown",
   "metadata": {},
   "source": [
    "we can see that it is not precisely a straight line, but we can approximate it with one anyway."
   ]
  },
  {
   "cell_type": "markdown",
   "metadata": {},
   "source": [
    "## Training\n",
    "\n",
    "Now we are ready to train our linear regression model, we will first train it with the normal equations method and then with the gradient descent method.\n",
    "\n",
    "**Normal Equations**"
   ]
  },
  {
   "cell_type": "code",
   "execution_count": 11,
   "metadata": {},
   "outputs": [],
   "source": [
    "model = lib.LinearRegression()"
   ]
  },
  {
   "cell_type": "markdown",
   "metadata": {},
   "source": [
    "Since the model is not trained yet, we get an error when we try to get the coeficients"
   ]
  },
  {
   "cell_type": "code",
   "execution_count": 12,
   "metadata": {},
   "outputs": [
    {
     "ename": "RuntimeError",
     "evalue": "You must fit the model first",
     "output_type": "error",
     "traceback": [
      "\u001b[0;31m---------------------------------------------------------------------------\u001b[0m",
      "\u001b[0;31mRuntimeError\u001b[0m                              Traceback (most recent call last)",
      "\u001b[0;32m<ipython-input-12-a451a9aeb5c2>\u001b[0m in \u001b[0;36m<module>\u001b[0;34m\u001b[0m\n\u001b[0;32m----> 1\u001b[0;31m \u001b[0mmodel\u001b[0m\u001b[0;34m.\u001b[0m\u001b[0mcoef\u001b[0m\u001b[0;34m\u001b[0m\u001b[0;34m\u001b[0m\u001b[0m\n\u001b[0m",
      "\u001b[0;32m~/personal/supervised-learning-answers/supervised_learning/linear_regression.py\u001b[0m in \u001b[0;36mcoef\u001b[0;34m(self)\u001b[0m\n\u001b[1;32m    261\u001b[0m     \u001b[0;32mdef\u001b[0m \u001b[0mcoef\u001b[0m\u001b[0;34m(\u001b[0m\u001b[0mself\u001b[0m\u001b[0;34m)\u001b[0m\u001b[0;34m:\u001b[0m\u001b[0;34m\u001b[0m\u001b[0;34m\u001b[0m\u001b[0m\n\u001b[1;32m    262\u001b[0m         \u001b[0;32mif\u001b[0m \u001b[0mself\u001b[0m\u001b[0;34m.\u001b[0m\u001b[0m_coef\u001b[0m \u001b[0;32mis\u001b[0m \u001b[0;32mNone\u001b[0m\u001b[0;34m:\u001b[0m\u001b[0;34m\u001b[0m\u001b[0;34m\u001b[0m\u001b[0m\n\u001b[0;32m--> 263\u001b[0;31m             \u001b[0;32mraise\u001b[0m \u001b[0mRuntimeError\u001b[0m\u001b[0;34m(\u001b[0m\u001b[0;34m\"You must fit the model first\"\u001b[0m\u001b[0;34m)\u001b[0m\u001b[0;34m\u001b[0m\u001b[0;34m\u001b[0m\u001b[0m\n\u001b[0m\u001b[1;32m    264\u001b[0m         \u001b[0;32mreturn\u001b[0m \u001b[0mself\u001b[0m\u001b[0;34m.\u001b[0m\u001b[0m_coef\u001b[0m\u001b[0;34m\u001b[0m\u001b[0;34m\u001b[0m\u001b[0m\n\u001b[1;32m    265\u001b[0m \u001b[0;34m\u001b[0m\u001b[0m\n",
      "\u001b[0;31mRuntimeError\u001b[0m: You must fit the model first"
     ]
    }
   ],
   "source": [
    "model.coef"
   ]
  },
  {
   "cell_type": "markdown",
   "metadata": {},
   "source": [
    "(the same will happen if we attempt to make predictions with it, so we can't use the nice plotting function we defined above). Now let us finally train our first linear regression model using the normal equations"
   ]
  },
  {
   "cell_type": "code",
   "execution_count": 13,
   "metadata": {},
   "outputs": [],
   "source": [
    "model.fit(X_train, y_train, method='normal equations')"
   ]
  },
  {
   "cell_type": "markdown",
   "metadata": {},
   "source": [
    "Now we can access the coefficients and make predictions"
   ]
  },
  {
   "cell_type": "code",
   "execution_count": 14,
   "metadata": {},
   "outputs": [
    {
     "data": {
      "text/plain": [
       "array([[0.4893469],\n",
       "       [0.360465 ]])"
      ]
     },
     "execution_count": 14,
     "metadata": {},
     "output_type": "execute_result"
    }
   ],
   "source": [
    "model.coef"
   ]
  },
  {
   "cell_type": "code",
   "execution_count": 15,
   "metadata": {},
   "outputs": [],
   "source": [
    "np.testing.assert_almost_equal(model.coef, np.array([[0.4893469], [0.360465]]), decimal=5)"
   ]
  },
  {
   "cell_type": "markdown",
   "metadata": {},
   "source": [
    "Let us plot the model!"
   ]
  },
  {
   "cell_type": "code",
   "execution_count": 16,
   "metadata": {},
   "outputs": [
    {
     "data": {
      "image/png": "[encoded data removed]",
      "text/plain": [
       "<Figure size 432x288 with 1 Axes>"
      ]
     },
     "metadata": {
      "needs_background": "light"
     },
     "output_type": "display_data"
    }
   ],
   "source": [
    "utils.plot_univariate_regression(X_train, y_train, X_test, y_test,\n",
    "    model_fn = model.predict\n",
    ")"
   ]
  },
  {
   "cell_type": "markdown",
   "metadata": {},
   "source": [
    "We can see our model tries to follow the general trend but de data does not lie inteirely on our prediction line, let us compute the mean squared error in the train and test sets"
   ]
  },
  {
   "cell_type": "code",
   "execution_count": 17,
   "metadata": {},
   "outputs": [
    {
     "name": "stdout",
     "output_type": "stream",
     "text": [
      "Mean Squared Error on train set: 0.001656\n",
      "Mean Squared Error on test set: 0.002158\n"
     ]
    }
   ],
   "source": [
    "y_pred = model.predict(X_train)\n",
    "mse = lib.mean_squared_error(y_train, y_pred)\n",
    "print(\"Mean Squared Error on train set: {:4f}\".format(mse))\n",
    "\n",
    "y_pred = model.predict(X_test)\n",
    "mse = lib.mean_squared_error(y_test, y_pred)\n",
    "print(\"Mean Squared Error on test set: {:4f}\".format(mse))"
   ]
  },
  {
   "cell_type": "markdown",
   "metadata": {},
   "source": [
    "That is life, there are some errors we have to learn to live with. Now let us see how it goes with the gradient descent method, do you think we will do better?\n",
    "\n",
    "**Gradient Descent**"
   ]
  },
  {
   "cell_type": "code",
   "execution_count": 18,
   "metadata": {},
   "outputs": [],
   "source": [
    "model = lib.LinearRegression()\n",
    "model.fit(X_train, y_train, method='gradient descent', num_iterations=10)"
   ]
  },
  {
   "cell_type": "markdown",
   "metadata": {},
   "source": [
    "Now that we have trained our model, let us see what coefficients it has found"
   ]
  },
  {
   "cell_type": "code",
   "execution_count": 19,
   "metadata": {},
   "outputs": [
    {
     "data": {
      "text/plain": [
       "array([[ 0.29725079],\n",
       "       [-0.52322328]])"
      ]
     },
     "execution_count": 19,
     "metadata": {},
     "output_type": "execute_result"
    }
   ],
   "source": [
    "model.coef"
   ]
  },
  {
   "cell_type": "markdown",
   "metadata": {},
   "source": [
    "they seem totally different from those of the normal equations, let us plot the model, perhaps this coefficients are also worthy"
   ]
  },
  {
   "cell_type": "code",
   "execution_count": 20,
   "metadata": {},
   "outputs": [
    {
     "data": {
      "image/png": "[encoded data removed]",
      "text/plain": [
       "<Figure size 432x288 with 1 Axes>"
      ]
     },
     "metadata": {
      "needs_background": "light"
     },
     "output_type": "display_data"
    }
   ],
   "source": [
    "utils.plot_univariate_regression(X_train, y_train, X_test, y_test,\n",
    "    model_fn = model.predict\n",
    ")"
   ]
  },
  {
   "cell_type": "markdown",
   "metadata": {},
   "source": [
    "That is horrible! How come we have such a bad model? is it a bad implementation? Not neccessarily!\n",
    "\n",
    "Gradient descent is an iterative method with several parameters to tune, this parameters have to be tuned for every dataset, but we have stored learning curves in our models, they may help us debug a little."
   ]
  },
  {
   "cell_type": "code",
   "execution_count": 21,
   "metadata": {},
   "outputs": [
    {
     "data": {
      "text/plain": [
       "{'loss': (1.3566768064549346,\n",
       "  1.2187391481186922,\n",
       "  1.0951402037672908,\n",
       "  0.9843878576401308,\n",
       "  0.8851452749846193,\n",
       "  0.7962147422795398,\n",
       "  0.7165231891735284,\n",
       "  0.6451092171259803,\n",
       "  0.5811114779509298,\n",
       "  0.5237582617822418,\n",
       "  0.4723581685980963),\n",
       " 'weights': (array([[-0.0734407 ],\n",
       "         [-0.74408959]]),\n",
       "  array([[-0.02633934],\n",
       "         [-0.71656464]]),\n",
       "  array([[ 0.01819903],\n",
       "         [-0.69042825]]),\n",
       "  array([[ 0.06031158],\n",
       "         [-0.66560641]]),\n",
       "  array([[ 0.1001281 ],\n",
       "         [-0.64202906]]),\n",
       "  array([[ 0.13777147],\n",
       "         [-0.61962988]]),\n",
       "  array([[ 0.17335799],\n",
       "         [-0.5983461 ]]),\n",
       "  array([[ 0.20699774],\n",
       "         [-0.5781183 ]]),\n",
       "  array([[ 0.23879492],\n",
       "         [-0.55889025]]),\n",
       "  array([[ 0.26884815],\n",
       "         [-0.5406087 ]]),\n",
       "  array([[ 0.29725079],\n",
       "         [-0.52322328]]))}"
      ]
     },
     "execution_count": 21,
     "metadata": {},
     "output_type": "execute_result"
    }
   ],
   "source": [
    "model.learning_curves"
   ]
  },
  {
   "cell_type": "code",
   "execution_count": 22,
   "metadata": {},
   "outputs": [
    {
     "data": {
      "text/plain": [
       "[<matplotlib.lines.Line2D at 0x7fcba1bbdcd0>]"
      ]
     },
     "execution_count": 22,
     "metadata": {},
     "output_type": "execute_result"
    },
    {
     "data": {
      "image/png": "[encoded data removed]",
      "text/plain": [
       "<Figure size 432x288 with 1 Axes>"
      ]
     },
     "metadata": {
      "needs_background": "light"
     },
     "output_type": "display_data"
    }
   ],
   "source": [
    "plt.plot(model.learning_curves['loss'])"
   ]
  },
  {
   "cell_type": "markdown",
   "metadata": {},
   "source": [
    "The loss function seems to be decreasing, perhaps the algorithm was not given enough training steps, let us try again"
   ]
  },
  {
   "cell_type": "code",
   "execution_count": 23,
   "metadata": {},
   "outputs": [],
   "source": [
    "model = lib.LinearRegression()\n",
    "model.fit(X_train, y_train, method='gradient descent', num_iterations=5000)"
   ]
  },
  {
   "cell_type": "code",
   "execution_count": 24,
   "metadata": {},
   "outputs": [
    {
     "data": {
      "text/plain": [
       "[<matplotlib.lines.Line2D at 0x7fcba1cb3d90>]"
      ]
     },
     "execution_count": 24,
     "metadata": {},
     "output_type": "execute_result"
    },
    {
     "data": {
      "image/png": "[encoded data removed]",
      "text/plain": [
       "<Figure size 432x288 with 1 Axes>"
      ]
     },
     "metadata": {
      "needs_background": "light"
     },
     "output_type": "display_data"
    }
   ],
   "source": [
    "plt.plot(model.learning_curves['loss'])"
   ]
  },
  {
   "cell_type": "markdown",
   "metadata": {},
   "source": [
    "From the above learning curve we can se our model has converged to a low training error, let us see the model again"
   ]
  },
  {
   "cell_type": "code",
   "execution_count": 25,
   "metadata": {},
   "outputs": [
    {
     "data": {
      "image/png": "[encoded data removed]",
      "text/plain": [
       "<Figure size 432x288 with 1 Axes>"
      ]
     },
     "metadata": {
      "needs_background": "light"
     },
     "output_type": "display_data"
    }
   ],
   "source": [
    "utils.plot_univariate_regression(X_train, y_train, X_test, y_test,\n",
    "    model_fn = model.predict\n",
    ")"
   ]
  },
  {
   "cell_type": "markdown",
   "metadata": {},
   "source": [
    "It seems very similar to the model found by the normal equations, but we can make sure looking at the coefficients and the mean squared error of this model"
   ]
  },
  {
   "cell_type": "code",
   "execution_count": 26,
   "metadata": {},
   "outputs": [
    {
     "data": {
      "text/plain": [
       "array([[0.48934725],\n",
       "       [0.36046436]])"
      ]
     },
     "execution_count": 26,
     "metadata": {},
     "output_type": "execute_result"
    }
   ],
   "source": [
    "model.coef"
   ]
  },
  {
   "cell_type": "code",
   "execution_count": 27,
   "metadata": {},
   "outputs": [
    {
     "name": "stdout",
     "output_type": "stream",
     "text": [
      "Mean Squared Error on train set: 0.001656\n",
      "Mean Squared Error on test set: 0.002158\n"
     ]
    }
   ],
   "source": [
    "y_pred = model.predict(X_train)\n",
    "mse = lib.mean_squared_error(y_train, y_pred)\n",
    "print(\"Mean Squared Error on train set: {:4f}\".format(mse))\n",
    "\n",
    "y_pred = model.predict(X_test)\n",
    "mse = lib.mean_squared_error(y_test, y_pred)\n",
    "print(\"Mean Squared Error on test set: {:4f}\".format(mse))"
   ]
  },
  {
   "cell_type": "markdown",
   "metadata": {},
   "source": [
    "They certainly are a bit different from the ones found by the normal equations, but it does not mean they are not right (as the picture above shows). It is hard to tell which alternative is better, as a rule of thumb you should alway choose the one with lower error on the test set.\n",
    "\n",
    "The previous result does not imply that gradient descent is useless. In fact, there are many cases where gradient descent is our most reliable choice, for instance, using the normal equations we need to invert a matrix and we know from linear algebra than some matrices can't be inverted.\n",
    "\n",
    "That is it! you now have a working implementation of a linear regression model, which you can train using either normal equations or gradient descent, go ahead to the next exercise!"
   ]
  }
 ],
 "metadata": {
  "kernelspec": {
   "display_name": "Python 3",
   "language": "python",
   "name": "python3"
  },
  "language_info": {
   "codemirror_mode": {
    "name": "ipython",
    "version": 3
   },
   "file_extension": ".py",
   "mimetype": "text/x-python",
   "name": "python",
   "nbconvert_exporter": "python",
   "pygments_lexer": "ipython3",
   "version": "3.7.9"
  }
 },
 "nbformat": 4,
 "nbformat_minor": 2
}
